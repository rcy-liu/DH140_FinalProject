{
 "cells": [
  {
   "cell_type": "markdown",
   "id": "c907f1f1",
   "metadata": {},
   "source": [
    "## Introduction \n",
    "\n",
    "##### Description of Data\n",
    "\n",
    "\n",
    "##### Link to Data Source\n",
    "\n",
    "\n",
    "##### Motivation\n",
    "\n",
    "\n",
    "##### Questions\n",
    "\n",
    "\n",
    "Step 2: Create a section in your notebook that introduces your project\n",
    "\n",
    "This should include a description of your data, a link to the source(s) of your data, your motivation for looking at the data, and the question(s) that you are seeking to address."
   ]
  },
  {
   "cell_type": "markdown",
   "id": "af930677",
   "metadata": {},
   "source": [
    "## Exploratory Data\n",
    "\n",
    "Step 3: Create another section in your notebook that explores and presents information about your data\n",
    "\n",
    "This section does not need to be polished yet, but it should be a good foundation\n",
    "This can include summary information about the data, summary statistics where appropriate, an identification of where there may be missing/incorrect/outlier data, and data preprocessing\n",
    "It should include at least 4 exploratory data visualizations"
   ]
  },
  {
   "cell_type": "code",
   "execution_count": null,
   "id": "6c4dfaea",
   "metadata": {},
   "outputs": [],
   "source": []
  },
  {
   "cell_type": "markdown",
   "id": "3733abf0",
   "metadata": {},
   "source": [
    "## Data Analysis\n",
    "\n",
    "Step 4: Create a section in your notebook that includes the beginnings of your analysis\n",
    "\n",
    "This section also does not need to be polished yet, but it should be a good foundation\n",
    "This should include code for data analysis directly relevant to your question(s) of interest\n",
    "Include an additional 4 data visualizations that are directly relevant to your topic \n",
    "Or describe 4 data visualizations that you want to make"
   ]
  },
  {
   "cell_type": "code",
   "execution_count": null,
   "id": "f26fb4f3",
   "metadata": {},
   "outputs": [],
   "source": []
  }
 ],
 "metadata": {
  "kernelspec": {
   "display_name": "Python 3 (ipykernel)",
   "language": "python",
   "name": "python3"
  },
  "language_info": {
   "codemirror_mode": {
    "name": "ipython",
    "version": 3
   },
   "file_extension": ".py",
   "mimetype": "text/x-python",
   "name": "python",
   "nbconvert_exporter": "python",
   "pygments_lexer": "ipython3",
   "version": "3.10.11"
  }
 },
 "nbformat": 4,
 "nbformat_minor": 5
}
